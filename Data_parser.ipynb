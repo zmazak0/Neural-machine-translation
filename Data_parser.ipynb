{
  "nbformat": 4,
  "nbformat_minor": 0,
  "metadata": {
    "colab": {
      "name": "Data parser",
      "provenance": []
    },
    "kernelspec": {
      "name": "python3",
      "display_name": "Python 3"
    }
  },
  "cells": [
    {
      "cell_type": "code",
      "metadata": {
        "id": "LHNepgpIPVau",
        "colab_type": "code",
        "outputId": "ffdb977c-a699-4c3b-a978-8a5c147f214a",
        "colab": {
          "base_uri": "https://localhost:8080/",
          "height": 297
        }
      },
      "source": [
        "pip install wikipedia"
      ],
      "execution_count": 1,
      "outputs": [
        {
          "output_type": "stream",
          "text": [
            "Collecting wikipedia\n",
            "  Downloading https://files.pythonhosted.org/packages/67/35/25e68fbc99e672127cc6fbb14b8ec1ba3dfef035bf1e4c90f78f24a80b7d/wikipedia-1.4.0.tar.gz\n",
            "Requirement already satisfied: beautifulsoup4 in /usr/local/lib/python3.6/dist-packages (from wikipedia) (4.6.3)\n",
            "Requirement already satisfied: requests<3.0.0,>=2.0.0 in /usr/local/lib/python3.6/dist-packages (from wikipedia) (2.23.0)\n",
            "Requirement already satisfied: urllib3!=1.25.0,!=1.25.1,<1.26,>=1.21.1 in /usr/local/lib/python3.6/dist-packages (from requests<3.0.0,>=2.0.0->wikipedia) (1.24.3)\n",
            "Requirement already satisfied: chardet<4,>=3.0.2 in /usr/local/lib/python3.6/dist-packages (from requests<3.0.0,>=2.0.0->wikipedia) (3.0.4)\n",
            "Requirement already satisfied: certifi>=2017.4.17 in /usr/local/lib/python3.6/dist-packages (from requests<3.0.0,>=2.0.0->wikipedia) (2020.4.5.1)\n",
            "Requirement already satisfied: idna<3,>=2.5 in /usr/local/lib/python3.6/dist-packages (from requests<3.0.0,>=2.0.0->wikipedia) (2.9)\n",
            "Building wheels for collected packages: wikipedia\n",
            "  Building wheel for wikipedia (setup.py) ... \u001b[?25l\u001b[?25hdone\n",
            "  Created wheel for wikipedia: filename=wikipedia-1.4.0-cp36-none-any.whl size=11686 sha256=d04914639cc3afed9929fd1231a815fa30a6fb22d77596a2894b5f6553513237\n",
            "  Stored in directory: /root/.cache/pip/wheels/87/2a/18/4e471fd96d12114d16fe4a446d00c3b38fb9efcb744bd31f4a\n",
            "Successfully built wikipedia\n",
            "Installing collected packages: wikipedia\n",
            "Successfully installed wikipedia-1.4.0\n"
          ],
          "name": "stdout"
        }
      ]
    },
    {
      "cell_type": "code",
      "metadata": {
        "id": "ytoP-kdiPXmF",
        "colab_type": "code",
        "colab": {}
      },
      "source": [
        "import wikipedia\n",
        "import re"
      ],
      "execution_count": 0,
      "outputs": []
    },
    {
      "cell_type": "code",
      "metadata": {
        "id": "ozW_oEKcURJO",
        "colab_type": "code",
        "colab": {
          "base_uri": "https://localhost:8080/",
          "height": 55
        },
        "outputId": "a6325f2c-dbca-4a85-da6b-eac48cdc75ab"
      },
      "source": [
        "wikipedia.set_lang(\"hy\")\n",
        "ny = wikipedia.page(\"Москва\")\n",
        "text = ny.content\n",
        "reg = re.compile('[^ա-ֆԱ-Ֆ ։]')\n",
        "text=reg.sub('', text)\n",
        "print(text)"
      ],
      "execution_count": 3,
      "outputs": [
        {
          "output_type": "stream",
          "text": [
            "Մոսկվա  ռուս   ռուսական պետական հեռուստաալիք լրատվական ուղղվածությամբ։ Հիմնվել է Համառուսաստանյան պետական հեռուստառադիոընկերություն կողմից Մոսկվայի քաղաքապետ Սերգեյ Սոբյանինի առաջարկությամբ։ Հեռարձակվում է  թվականի սեպտեմբերի ից լուծարված Ստոլիցա հեռուստաալիքի հաճախականությամբ։ Հեռուստաալիքի հիմնական նպատակն է հեռուստադիտողներին օպերատիվ կարգով տեղեկացնել Մոսկվայում իրավիճակի մասին քաղաքային իրադարձություններից մինչ ճանապարհների խցանումներն ու եղանակի տեսությունը։ Արտաքին հղումներ  Պաշտոնական կայք ռուսԱրցանց հեռարձակում ռուս Ծանոթագրություններ \n"
          ],
          "name": "stdout"
        }
      ]
    },
    {
      "cell_type": "code",
      "metadata": {
        "id": "UE5lgSx6OIr6",
        "colab_type": "code",
        "colab": {}
      },
      "source": [
        "import pandas as pd\n",
        "import re\n",
        "import requests as req\n",
        "from bs4 import BeautifulSoup"
      ],
      "execution_count": 0,
      "outputs": []
    },
    {
      "cell_type": "code",
      "metadata": {
        "id": "ori8vdPZOZcr",
        "colab_type": "code",
        "colab": {}
      },
      "source": [
        "def get_data(start_page, end_page):\n",
        "    dat = []\n",
        "    for i in range (start_page, end_page):\n",
        "      url='https://news.am/arm/news/5'+str(i)+'.html'\n",
        "      r = req.get(url)\n",
        "      soup=BeautifulSoup(r.content)\n",
        "      for i, data in enumerate((soup.find_all('span', 'article-body'))):\n",
        "        dat.append(re.sub('[^ա-ֆԱ-Ֆ :]','',data.text).strip(' '))\n",
        "      data = pd.DataFrame({'data':dat})\n",
        "    return data"
      ],
      "execution_count": 0,
      "outputs": []
    },
    {
      "cell_type": "code",
      "metadata": {
        "id": "IYKlPGbVOfVD",
        "colab_type": "code",
        "colab": {}
      },
      "source": [
        "data = get_data(start_page = 81600, end_page = 81700)"
      ],
      "execution_count": 0,
      "outputs": []
    },
    {
      "cell_type": "code",
      "metadata": {
        "id": "I3ppYcijuwCr",
        "colab_type": "code",
        "outputId": "e6eec820-1462-4e77-c143-9821fc5d6159",
        "colab": {
          "base_uri": "https://localhost:8080/",
          "height": 415
        }
      },
      "source": [
        "data"
      ],
      "execution_count": 16,
      "outputs": [
        {
          "output_type": "execute_result",
          "data": {
            "text/html": [
              "<div>\n",
              "<style scoped>\n",
              "    .dataframe tbody tr th:only-of-type {\n",
              "        vertical-align: middle;\n",
              "    }\n",
              "\n",
              "    .dataframe tbody tr th {\n",
              "        vertical-align: top;\n",
              "    }\n",
              "\n",
              "    .dataframe thead th {\n",
              "        text-align: right;\n",
              "    }\n",
              "</style>\n",
              "<table border=\"1\" class=\"dataframe\">\n",
              "  <thead>\n",
              "    <tr style=\"text-align: right;\">\n",
              "      <th></th>\n",
              "      <th>data</th>\n",
              "    </tr>\n",
              "  </thead>\n",
              "  <tbody>\n",
              "    <tr>\n",
              "      <th>0</th>\n",
              "      <td>ԱՄՆ արդարադատության նախարարությունը Հյուսիսայի...</td>\n",
              "    </tr>\n",
              "    <tr>\n",
              "      <th>1</th>\n",
              "      <td>Պաշտպանության նախարարության մամուլի խոսնակ Շու...</td>\n",
              "    </tr>\n",
              "    <tr>\n",
              "      <th>2</th>\n",
              "      <td>ՀՀ վարչապետ Նիկոլ Փաշինյանը ինստագրամյան իր էջ...</td>\n",
              "    </tr>\n",
              "    <tr>\n",
              "      <th>3</th>\n",
              "      <td>ՀՀ վարչապետի տիկին Աննա Հակոբյանը ֆեյսբուքյան ...</td>\n",
              "    </tr>\n",
              "    <tr>\n",
              "      <th>4</th>\n",
              "      <td>Մայիսի ին խորհրդարանը վավերացրեց Հայաստանի Հան...</td>\n",
              "    </tr>\n",
              "    <tr>\n",
              "      <th>...</th>\n",
              "      <td>...</td>\n",
              "    </tr>\n",
              "    <tr>\n",
              "      <th>95</th>\n",
              "      <td>ՌԴ ՔԿն պարզում է տղամարդու մահվան հանգամանքներ...</td>\n",
              "    </tr>\n",
              "    <tr>\n",
              "      <th>96</th>\n",
              "      <td>Արմավիրի մարզում այսօր մայիսի ին կասկադյորական...</td>\n",
              "    </tr>\n",
              "    <tr>\n",
              "      <th>97</th>\n",
              "      <td>Որպես բժիշկ մտածելով մարդկանց առողջության մասի...</td>\n",
              "    </tr>\n",
              "    <tr>\n",
              "      <th>98</th>\n",
              "      <td>ՀՀ էկոնոմիկայի նախարարության Զբոսաշրջության կո...</td>\n",
              "    </tr>\n",
              "    <tr>\n",
              "      <th>99</th>\n",
              "      <td>Երկու օր առաջ Կառավարության հետ հարց ու պատասխ...</td>\n",
              "    </tr>\n",
              "  </tbody>\n",
              "</table>\n",
              "<p>100 rows × 1 columns</p>\n",
              "</div>"
            ],
            "text/plain": [
              "                                                 data\n",
              "0   ԱՄՆ արդարադատության նախարարությունը Հյուսիսայի...\n",
              "1   Պաշտպանության նախարարության մամուլի խոսնակ Շու...\n",
              "2   ՀՀ վարչապետ Նիկոլ Փաշինյանը ինստագրամյան իր էջ...\n",
              "3   ՀՀ վարչապետի տիկին Աննա Հակոբյանը ֆեյսբուքյան ...\n",
              "4   Մայիսի ին խորհրդարանը վավերացրեց Հայաստանի Հան...\n",
              "..                                                ...\n",
              "95  ՌԴ ՔԿն պարզում է տղամարդու մահվան հանգամանքներ...\n",
              "96  Արմավիրի մարզում այսօր մայիսի ին կասկադյորական...\n",
              "97  Որպես բժիշկ մտածելով մարդկանց առողջության մասի...\n",
              "98  ՀՀ էկոնոմիկայի նախարարության Զբոսաշրջության կո...\n",
              "99  Երկու օր առաջ Կառավարության հետ հարց ու պատասխ...\n",
              "\n",
              "[100 rows x 1 columns]"
            ]
          },
          "metadata": {
            "tags": []
          },
          "execution_count": 16
        }
      ]
    },
    {
      "cell_type": "code",
      "metadata": {
        "id": "i0aqBZ69KQFM",
        "colab_type": "code",
        "colab": {}
      },
      "source": [
        "from google.colab import files\n",
        "data.to_csv ('dataset.csv', encoding=\"utf-8\") \n",
        "files.download('dataset.csv')"
      ],
      "execution_count": 0,
      "outputs": []
    },
    {
      "cell_type": "code",
      "metadata": {
        "id": "JzLov9dzkMSo",
        "colab_type": "code",
        "colab": {}
      },
      "source": [
        ""
      ],
      "execution_count": 0,
      "outputs": []
    }
  ]
}