{
  "nbformat": 4,
  "nbformat_minor": 0,
  "metadata": {
    "colab": {
      "name": "Dataset_creator",
      "provenance": [],
      "collapsed_sections": []
    },
    "kernelspec": {
      "name": "python3",
      "display_name": "Python 3"
    }
  },
  "cells": [
    {
      "cell_type": "code",
      "metadata": {
        "id": "FRdIjpdQocF7",
        "colab_type": "code",
        "outputId": "ab1359e8-6fa1-4819-9b71-8da6d0d689bf",
        "colab": {
          "base_uri": "https://localhost:8080/",
          "height": 286
        }
      },
      "source": [
        "!pip install googletrans"
      ],
      "execution_count": 2,
      "outputs": [
        {
          "output_type": "stream",
          "text": [
            "Collecting googletrans\n",
            "  Downloading https://files.pythonhosted.org/packages/fd/f0/a22d41d3846d1f46a4f20086141e0428ccc9c6d644aacbfd30990cf46886/googletrans-2.4.0.tar.gz\n",
            "Requirement already satisfied: requests in /usr/local/lib/python3.6/dist-packages (from googletrans) (2.23.0)\n",
            "Requirement already satisfied: urllib3!=1.25.0,!=1.25.1,<1.26,>=1.21.1 in /usr/local/lib/python3.6/dist-packages (from requests->googletrans) (1.24.3)\n",
            "Requirement already satisfied: idna<3,>=2.5 in /usr/local/lib/python3.6/dist-packages (from requests->googletrans) (2.9)\n",
            "Requirement already satisfied: chardet<4,>=3.0.2 in /usr/local/lib/python3.6/dist-packages (from requests->googletrans) (3.0.4)\n",
            "Requirement already satisfied: certifi>=2017.4.17 in /usr/local/lib/python3.6/dist-packages (from requests->googletrans) (2020.4.5.1)\n",
            "Building wheels for collected packages: googletrans\n",
            "  Building wheel for googletrans (setup.py) ... \u001b[?25l\u001b[?25hdone\n",
            "  Created wheel for googletrans: filename=googletrans-2.4.0-cp36-none-any.whl size=15777 sha256=9a78a5e149301905f4031e0fdb014ea9f4d71be1581ce25e78104e836f0b1e91\n",
            "  Stored in directory: /root/.cache/pip/wheels/50/d6/e7/a8efd5f2427d5eb258070048718fa56ee5ac57fd6f53505f95\n",
            "Successfully built googletrans\n",
            "Installing collected packages: googletrans\n",
            "Successfully installed googletrans-2.4.0\n"
          ],
          "name": "stdout"
        }
      ]
    },
    {
      "cell_type": "code",
      "metadata": {
        "id": "zpnsiRmGZf5t",
        "colab_type": "code",
        "outputId": "e944e163-1d6e-425f-cd80-a20ddf524e2f",
        "colab": {
          "base_uri": "https://localhost:8080/",
          "height": 35
        }
      },
      "source": [
        "from googletrans import Translator\n",
        "trans = translator = Translator(service_urls=['translate.google.com',\n",
        "                                              'translate.google.am',])\n",
        "s='արտահայտություն'\n",
        "\n",
        "result = trans.translate(s).text\n",
        "print(result)"
      ],
      "execution_count": 6,
      "outputs": [
        {
          "output_type": "stream",
          "text": [
            "expression\n"
          ],
          "name": "stdout"
        }
      ]
    },
    {
      "cell_type": "code",
      "metadata": {
        "id": "vVFuSlsTorFt",
        "colab_type": "code",
        "colab": {}
      },
      "source": [
        "import pandas as pd\n",
        "import re\n",
        "data=pd.read_csv('/content/drive/My Drive/data_woe.csv')\n",
        "data=data.data"
      ],
      "execution_count": 0,
      "outputs": []
    },
    {
      "cell_type": "code",
      "metadata": {
        "id": "U5xmktQtGyIR",
        "colab_type": "code",
        "outputId": "059a62fa-b6ce-4da4-83d0-e043844efda3",
        "colab": {
          "base_uri": "https://localhost:8080/",
          "height": 70
        }
      },
      "source": [
        "import copy\n",
        "from googletrans import Translator\n",
        "\n",
        "df = pd.DataFrame(columns = ['source', 'target'])\n",
        "df.loc[0] = {'source': 'null', 'target': 'null'}\n",
        "j=0\n",
        "translator = Translator()\n",
        "split_regex = re.compile(r'[:|!|…]')\n",
        "for i in range (4320, 4500):\n",
        "  sentences = filter(lambda t: t, [t.strip() for t in split_regex.split(data[i])])\n",
        "  for s in sentences:\n",
        "      if ((len(s.split()) <= 30)&(len(s.split()) > 0)):\n",
        "        try:\n",
        "          df.loc[j] = {'source':s+' :' , 'target': str(trans.translate(s).text)}\n",
        "          j=j+1\n",
        "        except:\n",
        "          translator = Translator()\n",
        "          break\n",
        "  if (i%50==0):\n",
        "    print (i, j)\n"
      ],
      "execution_count": 8,
      "outputs": [
        {
          "output_type": "stream",
          "text": [
            "4350 149\n",
            "4400 348\n",
            "4450 495\n"
          ],
          "name": "stdout"
        }
      ]
    },
    {
      "cell_type": "code",
      "metadata": {
        "id": "tqdDsO2vYHgt",
        "colab_type": "code",
        "outputId": "763ee5f9-6932-478b-81e3-2617e0e64518",
        "colab": {
          "base_uri": "https://localhost:8080/",
          "height": 411
        }
      },
      "source": [
        "df"
      ],
      "execution_count": 9,
      "outputs": [
        {
          "output_type": "execute_result",
          "data": {
            "text/html": [
              "<div>\n",
              "<style scoped>\n",
              "    .dataframe tbody tr th:only-of-type {\n",
              "        vertical-align: middle;\n",
              "    }\n",
              "\n",
              "    .dataframe tbody tr th {\n",
              "        vertical-align: top;\n",
              "    }\n",
              "\n",
              "    .dataframe thead th {\n",
              "        text-align: right;\n",
              "    }\n",
              "</style>\n",
              "<table border=\"1\" class=\"dataframe\">\n",
              "  <thead>\n",
              "    <tr style=\"text-align: right;\">\n",
              "      <th></th>\n",
              "      <th>source</th>\n",
              "      <th>target</th>\n",
              "    </tr>\n",
              "  </thead>\n",
              "  <tbody>\n",
              "    <tr>\n",
              "      <th>0</th>\n",
              "      <td>Միաժամանակ խնդրում եմ հաշվի առնել որ նախապատվո...</td>\n",
              "      <td>Please also note that preference will be given...</td>\n",
              "    </tr>\n",
              "    <tr>\n",
              "      <th>1</th>\n",
              "      <td>Խաղողագործների  տոկոսը գրանցված աշխատակիցներ չ...</td>\n",
              "      <td>Winemakers percent of employees are not regist...</td>\n",
              "    </tr>\n",
              "    <tr>\n",
              "      <th>2</th>\n",
              "      <td>Բացի այդ նրանցից շատերը վատ վարկային պատմությո...</td>\n",
              "      <td>In addition, many of them have a bad credit hi...</td>\n",
              "    </tr>\n",
              "    <tr>\n",
              "      <th>3</th>\n",
              "      <td>Այս մասին ի թղթակցի հետ զրույցում հայտարարել է...</td>\n",
              "      <td>Winemakers Union of Armenia Chairman Artak Sar...</td>\n",
              "    </tr>\n",
              "    <tr>\n",
              "      <th>4</th>\n",
              "      <td>Արտակ Սարգսյանը հավելել է որ բանկերի սահմանափա...</td>\n",
              "      <td>Artak Sargsyan added that due to bank restrict...</td>\n",
              "    </tr>\n",
              "    <tr>\n",
              "      <th>...</th>\n",
              "      <td>...</td>\n",
              "      <td>...</td>\n",
              "    </tr>\n",
              "    <tr>\n",
              "      <th>490</th>\n",
              "      <td>Նրանք պահպանում էին սոցիալական հեռավորություն :</td>\n",
              "      <td>They maintain the social distance</td>\n",
              "    </tr>\n",
              "    <tr>\n",
              "      <th>491</th>\n",
              "      <td>Հոգեւորականները կաթողիկոսի գլխավորությամբ անմա...</td>\n",
              "      <td>Catholicos of the priests burned incense at th...</td>\n",
              "    </tr>\n",
              "    <tr>\n",
              "      <th>492</th>\n",
              "      <td>Ծաղկեպսակի զետեղումից հետո հուշահամալիրում անմ...</td>\n",
              "      <td>After the memorial wreath at the eternal flame...</td>\n",
              "    </tr>\n",
              "    <tr>\n",
              "      <th>493</th>\n",
              "      <td>Նշենք որ այսօր առավոտից անձրեւի տակ հնչում է դ...</td>\n",
              "      <td>Note that the rain this morning has live music...</td>\n",
              "    </tr>\n",
              "    <tr>\n",
              "      <th>494</th>\n",
              "      <td>Քաղաքական ու հոգեւոր վերնախավը մոտենում են ծաղ...</td>\n",
              "      <td>Political and religious leaders are coming to ...</td>\n",
              "    </tr>\n",
              "  </tbody>\n",
              "</table>\n",
              "<p>495 rows × 2 columns</p>\n",
              "</div>"
            ],
            "text/plain": [
              "                                                source                                             target\n",
              "0    Միաժամանակ խնդրում եմ հաշվի առնել որ նախապատվո...  Please also note that preference will be given...\n",
              "1    Խաղողագործների  տոկոսը գրանցված աշխատակիցներ չ...  Winemakers percent of employees are not regist...\n",
              "2    Բացի այդ նրանցից շատերը վատ վարկային պատմությո...  In addition, many of them have a bad credit hi...\n",
              "3    Այս մասին ի թղթակցի հետ զրույցում հայտարարել է...  Winemakers Union of Armenia Chairman Artak Sar...\n",
              "4    Արտակ Սարգսյանը հավելել է որ բանկերի սահմանափա...  Artak Sargsyan added that due to bank restrict...\n",
              "..                                                 ...                                                ...\n",
              "490    Նրանք պահպանում էին սոցիալական հեռավորություն :                  They maintain the social distance\n",
              "491  Հոգեւորականները կաթողիկոսի գլխավորությամբ անմա...  Catholicos of the priests burned incense at th...\n",
              "492  Ծաղկեպսակի զետեղումից հետո հուշահամալիրում անմ...  After the memorial wreath at the eternal flame...\n",
              "493  Նշենք որ այսօր առավոտից անձրեւի տակ հնչում է դ...  Note that the rain this morning has live music...\n",
              "494  Քաղաքական ու հոգեւոր վերնախավը մոտենում են ծաղ...  Political and religious leaders are coming to ...\n",
              "\n",
              "[495 rows x 2 columns]"
            ]
          },
          "metadata": {
            "tags": []
          },
          "execution_count": 9
        }
      ]
    },
    {
      "cell_type": "code",
      "metadata": {
        "id": "dkTt11xwO-R_",
        "colab_type": "code",
        "outputId": "a69a90c4-e4cd-485d-e123-f2267d9411e3",
        "colab": {
          "base_uri": "https://localhost:8080/",
          "height": 716
        }
      },
      "source": [
        "df[df.duplicated()]"
      ],
      "execution_count": 10,
      "outputs": [
        {
          "output_type": "execute_result",
          "data": {
            "text/html": [
              "<div>\n",
              "<style scoped>\n",
              "    .dataframe tbody tr th:only-of-type {\n",
              "        vertical-align: middle;\n",
              "    }\n",
              "\n",
              "    .dataframe tbody tr th {\n",
              "        vertical-align: top;\n",
              "    }\n",
              "\n",
              "    .dataframe thead th {\n",
              "        text-align: right;\n",
              "    }\n",
              "</style>\n",
              "<table border=\"1\" class=\"dataframe\">\n",
              "  <thead>\n",
              "    <tr style=\"text-align: right;\">\n",
              "      <th></th>\n",
              "      <th>source</th>\n",
              "      <th>target</th>\n",
              "    </tr>\n",
              "  </thead>\n",
              "  <tbody>\n",
              "    <tr>\n",
              "      <th>174</th>\n",
              "      <td>Ապրիլի ին ժամը :</td>\n",
              "      <td>April at</td>\n",
              "    </tr>\n",
              "    <tr>\n",
              "      <th>175</th>\n",
              "      <td>ից սկսած քաղաքացիները կարող են հաղորդագրությու...</td>\n",
              "      <td>Since citizens can send a short message to the...</td>\n",
              "    </tr>\n",
              "    <tr>\n",
              "      <th>221</th>\n",
              "      <td>Նախաքննությունը շարունակվում է :</td>\n",
              "      <td>Investigation continues</td>\n",
              "    </tr>\n",
              "    <tr>\n",
              "      <th>261</th>\n",
              "      <td>ից սկսած քաղաքացիները կարող են հաղորդագրությու...</td>\n",
              "      <td>Since citizens can send a short message to the...</td>\n",
              "    </tr>\n",
              "    <tr>\n",
              "      <th>278</th>\n",
              "      <td>Հայոց ցեղասպանության միջազգային ճանաչման համար...</td>\n",
              "      <td>For decades, the international recognition of ...</td>\n",
              "    </tr>\n",
              "    <tr>\n",
              "      <th>279</th>\n",
              "      <td>Հայոց ցեղասպանության ճանաչման աշխարհագրության ...</td>\n",
              "      <td>Geographical expansion is the best proof of th...</td>\n",
              "    </tr>\n",
              "    <tr>\n",
              "      <th>284</th>\n",
              "      <td>Նահատակների ոգեկոչման արարողությունն այս տարի ...</td>\n",
              "      <td>Martyrs Remembrance ceremony took place this y...</td>\n",
              "    </tr>\n",
              "    <tr>\n",
              "      <th>285</th>\n",
              "      <td>Ուղիղ ժամը ին երեք րոպե ղողանջեցին Հայաստանի բ...</td>\n",
              "      <td>The bells rang for three minutes straight at a...</td>\n",
              "    </tr>\n",
              "    <tr>\n",
              "      <th>286</th>\n",
              "      <td>Քաղաքացիները նույն ժամին անջատեցին բնակարաններ...</td>\n",
              "      <td>Citizens of the apartments at the same time of...</td>\n",
              "    </tr>\n",
              "    <tr>\n",
              "      <th>288</th>\n",
              "      <td>Ազդեցիկ եւ հուզիչ այս ոգեկոչման արարողությանը ...</td>\n",
              "      <td>This exciting and influential citizens had the...</td>\n",
              "    </tr>\n",
              "    <tr>\n",
              "      <th>296</th>\n",
              "      <td>Առավել մանրամասն թերթի այսօրվա համարում :</td>\n",
              "      <td>For more details, paper says</td>\n",
              "    </tr>\n",
              "    <tr>\n",
              "      <th>297</th>\n",
              "      <td>Առավել մանրամասն թերթի այսօրվա համարում :</td>\n",
              "      <td>For more details, paper says</td>\n",
              "    </tr>\n",
              "    <tr>\n",
              "      <th>298</th>\n",
              "      <td>Առավել մանրամասն թերթի այսօրվա համարում :</td>\n",
              "      <td>For more details, paper says</td>\n",
              "    </tr>\n",
              "    <tr>\n",
              "      <th>299</th>\n",
              "      <td>Առավել մանրամասն թերթի այսօրվա համարում :</td>\n",
              "      <td>For more details, paper says</td>\n",
              "    </tr>\n",
              "    <tr>\n",
              "      <th>300</th>\n",
              "      <td>Առավել մանրամասն թերթի այսօրվա համարում :</td>\n",
              "      <td>For more details, paper says</td>\n",
              "    </tr>\n",
              "    <tr>\n",
              "      <th>301</th>\n",
              "      <td>Առավել մանրամասն թերթի այսօրվա համարում :</td>\n",
              "      <td>For more details, paper says</td>\n",
              "    </tr>\n",
              "    <tr>\n",
              "      <th>302</th>\n",
              "      <td>Առավել մանրամասն թերթի այսօրվա համարում :</td>\n",
              "      <td>For more details, paper says</td>\n",
              "    </tr>\n",
              "    <tr>\n",
              "      <th>304</th>\n",
              "      <td>Առավել մանրամասն թերթի այսօրվա համարում :</td>\n",
              "      <td>For more details, paper says</td>\n",
              "    </tr>\n",
              "    <tr>\n",
              "      <th>357</th>\n",
              "      <td>Առավել մանրամասն թերթի այսօրվա համարում :</td>\n",
              "      <td>For more details, paper says</td>\n",
              "    </tr>\n",
              "    <tr>\n",
              "      <th>374</th>\n",
              "      <td>ից սկսած քաղաքացիները կարող են հաղորդագրությու...</td>\n",
              "      <td>Since citizens can send a short message to the...</td>\n",
              "    </tr>\n",
              "    <tr>\n",
              "      <th>375</th>\n",
              "      <td>ից սկսած քաղաքացիները կարող են հաղորդագրությու...</td>\n",
              "      <td>Since citizens can send a short message to the...</td>\n",
              "    </tr>\n",
              "    <tr>\n",
              "      <th>488</th>\n",
              "      <td>ից սկսած քաղաքացիները կարող են հաղորդագրությու...</td>\n",
              "      <td>Since citizens can send a short message to the...</td>\n",
              "    </tr>\n",
              "  </tbody>\n",
              "</table>\n",
              "</div>"
            ],
            "text/plain": [
              "                                                source                                             target\n",
              "174                                   Ապրիլի ին ժամը :                                           April at\n",
              "175  ից սկսած քաղաքացիները կարող են հաղորդագրությու...  Since citizens can send a short message to the...\n",
              "221                   Նախաքննությունը շարունակվում է :                            Investigation continues\n",
              "261  ից սկսած քաղաքացիները կարող են հաղորդագրությու...  Since citizens can send a short message to the...\n",
              "278  Հայոց ցեղասպանության միջազգային ճանաչման համար...  For decades, the international recognition of ...\n",
              "279  Հայոց ցեղասպանության ճանաչման աշխարհագրության ...  Geographical expansion is the best proof of th...\n",
              "284  Նահատակների ոգեկոչման արարողությունն այս տարի ...  Martyrs Remembrance ceremony took place this y...\n",
              "285  Ուղիղ ժամը ին երեք րոպե ղողանջեցին Հայաստանի բ...  The bells rang for three minutes straight at a...\n",
              "286  Քաղաքացիները նույն ժամին անջատեցին բնակարաններ...  Citizens of the apartments at the same time of...\n",
              "288  Ազդեցիկ եւ հուզիչ այս ոգեկոչման արարողությանը ...  This exciting and influential citizens had the...\n",
              "296          Առավել մանրամասն թերթի այսօրվա համարում :                       For more details, paper says\n",
              "297          Առավել մանրամասն թերթի այսօրվա համարում :                       For more details, paper says\n",
              "298          Առավել մանրամասն թերթի այսօրվա համարում :                       For more details, paper says\n",
              "299          Առավել մանրամասն թերթի այսօրվա համարում :                       For more details, paper says\n",
              "300          Առավել մանրամասն թերթի այսօրվա համարում :                       For more details, paper says\n",
              "301          Առավել մանրամասն թերթի այսօրվա համարում :                       For more details, paper says\n",
              "302          Առավել մանրամասն թերթի այսօրվա համարում :                       For more details, paper says\n",
              "304          Առավել մանրամասն թերթի այսօրվա համարում :                       For more details, paper says\n",
              "357          Առավել մանրամասն թերթի այսօրվա համարում :                       For more details, paper says\n",
              "374  ից սկսած քաղաքացիները կարող են հաղորդագրությու...  Since citizens can send a short message to the...\n",
              "375  ից սկսած քաղաքացիները կարող են հաղորդագրությու...  Since citizens can send a short message to the...\n",
              "488  ից սկսած քաղաքացիները կարող են հաղորդագրությու...  Since citizens can send a short message to the..."
            ]
          },
          "metadata": {
            "tags": []
          },
          "execution_count": 10
        }
      ]
    },
    {
      "cell_type": "code",
      "metadata": {
        "id": "Y3Bfg9GSIhb1",
        "colab_type": "code",
        "colab": {}
      },
      "source": [
        "df2 = df.copy()\n",
        "for column in df.columns:\n",
        "    df2[column] = df[column].drop_duplicates()\n",
        "    "
      ],
      "execution_count": 0,
      "outputs": []
    },
    {
      "cell_type": "code",
      "metadata": {
        "id": "r16bwjYNI-hm",
        "colab_type": "code",
        "colab": {}
      },
      "source": [
        "df_common_fin = df2.dropna(axis='index', how='any', subset=['target'])\n",
        "df_common_fin = df_common_fin.dropna(axis='index', how='any', subset=['source'])"
      ],
      "execution_count": 0,
      "outputs": []
    },
    {
      "cell_type": "code",
      "metadata": {
        "id": "bA_FDGAQBH_a",
        "colab_type": "code",
        "colab": {
          "base_uri": "https://localhost:8080/",
          "height": 48
        },
        "outputId": "ee085ab6-31e5-4498-fecf-f99b269136b0"
      },
      "source": [
        "df_common_fin[df_common_fin.duplicated()]"
      ],
      "execution_count": 13,
      "outputs": [
        {
          "output_type": "execute_result",
          "data": {
            "text/html": [
              "<div>\n",
              "<style scoped>\n",
              "    .dataframe tbody tr th:only-of-type {\n",
              "        vertical-align: middle;\n",
              "    }\n",
              "\n",
              "    .dataframe tbody tr th {\n",
              "        vertical-align: top;\n",
              "    }\n",
              "\n",
              "    .dataframe thead th {\n",
              "        text-align: right;\n",
              "    }\n",
              "</style>\n",
              "<table border=\"1\" class=\"dataframe\">\n",
              "  <thead>\n",
              "    <tr style=\"text-align: right;\">\n",
              "      <th></th>\n",
              "      <th>source</th>\n",
              "      <th>target</th>\n",
              "    </tr>\n",
              "  </thead>\n",
              "  <tbody>\n",
              "  </tbody>\n",
              "</table>\n",
              "</div>"
            ],
            "text/plain": [
              "Empty DataFrame\n",
              "Columns: [source, target]\n",
              "Index: []"
            ]
          },
          "metadata": {
            "tags": []
          },
          "execution_count": 13
        }
      ]
    },
    {
      "cell_type": "code",
      "metadata": {
        "id": "qBdqQo-vhycA",
        "colab_type": "code",
        "outputId": "cae8195a-112e-41cc-cb03-692bf14e219b",
        "colab": {
          "base_uri": "https://localhost:8080/",
          "height": 411
        }
      },
      "source": [
        "df_common_fin"
      ],
      "execution_count": 14,
      "outputs": [
        {
          "output_type": "execute_result",
          "data": {
            "text/html": [
              "<div>\n",
              "<style scoped>\n",
              "    .dataframe tbody tr th:only-of-type {\n",
              "        vertical-align: middle;\n",
              "    }\n",
              "\n",
              "    .dataframe tbody tr th {\n",
              "        vertical-align: top;\n",
              "    }\n",
              "\n",
              "    .dataframe thead th {\n",
              "        text-align: right;\n",
              "    }\n",
              "</style>\n",
              "<table border=\"1\" class=\"dataframe\">\n",
              "  <thead>\n",
              "    <tr style=\"text-align: right;\">\n",
              "      <th></th>\n",
              "      <th>source</th>\n",
              "      <th>target</th>\n",
              "    </tr>\n",
              "  </thead>\n",
              "  <tbody>\n",
              "    <tr>\n",
              "      <th>0</th>\n",
              "      <td>Միաժամանակ խնդրում եմ հաշվի առնել որ նախապատվո...</td>\n",
              "      <td>Please also note that preference will be given...</td>\n",
              "    </tr>\n",
              "    <tr>\n",
              "      <th>1</th>\n",
              "      <td>Խաղողագործների  տոկոսը գրանցված աշխատակիցներ չ...</td>\n",
              "      <td>Winemakers percent of employees are not regist...</td>\n",
              "    </tr>\n",
              "    <tr>\n",
              "      <th>2</th>\n",
              "      <td>Բացի այդ նրանցից շատերը վատ վարկային պատմությո...</td>\n",
              "      <td>In addition, many of them have a bad credit hi...</td>\n",
              "    </tr>\n",
              "    <tr>\n",
              "      <th>3</th>\n",
              "      <td>Այս մասին ի թղթակցի հետ զրույցում հայտարարել է...</td>\n",
              "      <td>Winemakers Union of Armenia Chairman Artak Sar...</td>\n",
              "    </tr>\n",
              "    <tr>\n",
              "      <th>4</th>\n",
              "      <td>Արտակ Սարգսյանը հավելել է որ բանկերի սահմանափա...</td>\n",
              "      <td>Artak Sargsyan added that due to bank restrict...</td>\n",
              "    </tr>\n",
              "    <tr>\n",
              "      <th>...</th>\n",
              "      <td>...</td>\n",
              "      <td>...</td>\n",
              "    </tr>\n",
              "    <tr>\n",
              "      <th>490</th>\n",
              "      <td>Նրանք պահպանում էին սոցիալական հեռավորություն :</td>\n",
              "      <td>They maintain the social distance</td>\n",
              "    </tr>\n",
              "    <tr>\n",
              "      <th>491</th>\n",
              "      <td>Հոգեւորականները կաթողիկոսի գլխավորությամբ անմա...</td>\n",
              "      <td>Catholicos of the priests burned incense at th...</td>\n",
              "    </tr>\n",
              "    <tr>\n",
              "      <th>492</th>\n",
              "      <td>Ծաղկեպսակի զետեղումից հետո հուշահամալիրում անմ...</td>\n",
              "      <td>After the memorial wreath at the eternal flame...</td>\n",
              "    </tr>\n",
              "    <tr>\n",
              "      <th>493</th>\n",
              "      <td>Նշենք որ այսօր առավոտից անձրեւի տակ հնչում է դ...</td>\n",
              "      <td>Note that the rain this morning has live music...</td>\n",
              "    </tr>\n",
              "    <tr>\n",
              "      <th>494</th>\n",
              "      <td>Քաղաքական ու հոգեւոր վերնախավը մոտենում են ծաղ...</td>\n",
              "      <td>Political and religious leaders are coming to ...</td>\n",
              "    </tr>\n",
              "  </tbody>\n",
              "</table>\n",
              "<p>473 rows × 2 columns</p>\n",
              "</div>"
            ],
            "text/plain": [
              "                                                source                                             target\n",
              "0    Միաժամանակ խնդրում եմ հաշվի առնել որ նախապատվո...  Please also note that preference will be given...\n",
              "1    Խաղողագործների  տոկոսը գրանցված աշխատակիցներ չ...  Winemakers percent of employees are not regist...\n",
              "2    Բացի այդ նրանցից շատերը վատ վարկային պատմությո...  In addition, many of them have a bad credit hi...\n",
              "3    Այս մասին ի թղթակցի հետ զրույցում հայտարարել է...  Winemakers Union of Armenia Chairman Artak Sar...\n",
              "4    Արտակ Սարգսյանը հավելել է որ բանկերի սահմանափա...  Artak Sargsyan added that due to bank restrict...\n",
              "..                                                 ...                                                ...\n",
              "490    Նրանք պահպանում էին սոցիալական հեռավորություն :                  They maintain the social distance\n",
              "491  Հոգեւորականները կաթողիկոսի գլխավորությամբ անմա...  Catholicos of the priests burned incense at th...\n",
              "492  Ծաղկեպսակի զետեղումից հետո հուշահամալիրում անմ...  After the memorial wreath at the eternal flame...\n",
              "493  Նշենք որ այսօր առավոտից անձրեւի տակ հնչում է դ...  Note that the rain this morning has live music...\n",
              "494  Քաղաքական ու հոգեւոր վերնախավը մոտենում են ծաղ...  Political and religious leaders are coming to ...\n",
              "\n",
              "[473 rows x 2 columns]"
            ]
          },
          "metadata": {
            "tags": []
          },
          "execution_count": 14
        }
      ]
    },
    {
      "cell_type": "code",
      "metadata": {
        "id": "joYCFKsOQHbD",
        "colab_type": "code",
        "outputId": "92d678c3-07f3-4c95-a174-372b734b6a9a",
        "colab": {
          "base_uri": "https://localhost:8080/",
          "height": 70
        }
      },
      "source": [
        "df_common_fin.loc[10]"
      ],
      "execution_count": 15,
      "outputs": [
        {
          "output_type": "execute_result",
          "data": {
            "text/plain": [
              "source    Կարեւոր է նա խթանել վերամշակող ձեռնարկությունն...\n",
              "target    It is important to promote the wineries of int...\n",
              "Name: 10, dtype: object"
            ]
          },
          "metadata": {
            "tags": []
          },
          "execution_count": 15
        }
      ]
    },
    {
      "cell_type": "code",
      "metadata": {
        "id": "Np2BlyYClEBx",
        "colab_type": "code",
        "colab": {}
      },
      "source": [
        "targ=df_common_fin.target.map(lambda x: str(x).lower()+' .')\n",
        "source=df_common_fin.source.map(lambda x: x.lower())"
      ],
      "execution_count": 0,
      "outputs": []
    },
    {
      "cell_type": "code",
      "metadata": {
        "id": "7dVsZLyaafCO",
        "colab_type": "code",
        "colab": {}
      },
      "source": [
        "df_common_fin['target']=targ\n",
        "df_common_fin['source']=source"
      ],
      "execution_count": 0,
      "outputs": []
    },
    {
      "cell_type": "code",
      "metadata": {
        "id": "j-fmJPuwavpN",
        "colab_type": "code",
        "outputId": "8ac58e7c-55af-457a-c919-3d189fa63ffe",
        "colab": {
          "base_uri": "https://localhost:8080/",
          "height": 411
        }
      },
      "source": [
        "df_common_fin"
      ],
      "execution_count": 18,
      "outputs": [
        {
          "output_type": "execute_result",
          "data": {
            "text/html": [
              "<div>\n",
              "<style scoped>\n",
              "    .dataframe tbody tr th:only-of-type {\n",
              "        vertical-align: middle;\n",
              "    }\n",
              "\n",
              "    .dataframe tbody tr th {\n",
              "        vertical-align: top;\n",
              "    }\n",
              "\n",
              "    .dataframe thead th {\n",
              "        text-align: right;\n",
              "    }\n",
              "</style>\n",
              "<table border=\"1\" class=\"dataframe\">\n",
              "  <thead>\n",
              "    <tr style=\"text-align: right;\">\n",
              "      <th></th>\n",
              "      <th>source</th>\n",
              "      <th>target</th>\n",
              "    </tr>\n",
              "  </thead>\n",
              "  <tbody>\n",
              "    <tr>\n",
              "      <th>0</th>\n",
              "      <td>միաժամանակ խնդրում եմ հաշվի առնել որ նախապատվո...</td>\n",
              "      <td>please also note that preference will be given...</td>\n",
              "    </tr>\n",
              "    <tr>\n",
              "      <th>1</th>\n",
              "      <td>խաղողագործների  տոկոսը գրանցված աշխատակիցներ չ...</td>\n",
              "      <td>winemakers percent of employees are not regist...</td>\n",
              "    </tr>\n",
              "    <tr>\n",
              "      <th>2</th>\n",
              "      <td>բացի այդ նրանցից շատերը վատ վարկային պատմությո...</td>\n",
              "      <td>in addition, many of them have a bad credit hi...</td>\n",
              "    </tr>\n",
              "    <tr>\n",
              "      <th>3</th>\n",
              "      <td>այս մասին ի թղթակցի հետ զրույցում հայտարարել է...</td>\n",
              "      <td>winemakers union of armenia chairman artak sar...</td>\n",
              "    </tr>\n",
              "    <tr>\n",
              "      <th>4</th>\n",
              "      <td>արտակ սարգսյանը հավելել է որ բանկերի սահմանափա...</td>\n",
              "      <td>artak sargsyan added that due to bank restrict...</td>\n",
              "    </tr>\n",
              "    <tr>\n",
              "      <th>...</th>\n",
              "      <td>...</td>\n",
              "      <td>...</td>\n",
              "    </tr>\n",
              "    <tr>\n",
              "      <th>490</th>\n",
              "      <td>նրանք պահպանում էին սոցիալական հեռավորություն :</td>\n",
              "      <td>they maintain the social distance .</td>\n",
              "    </tr>\n",
              "    <tr>\n",
              "      <th>491</th>\n",
              "      <td>հոգեւորականները կաթողիկոսի գլխավորությամբ անմա...</td>\n",
              "      <td>catholicos of the priests burned incense at th...</td>\n",
              "    </tr>\n",
              "    <tr>\n",
              "      <th>492</th>\n",
              "      <td>ծաղկեպսակի զետեղումից հետո հուշահամալիրում անմ...</td>\n",
              "      <td>after the memorial wreath at the eternal flame...</td>\n",
              "    </tr>\n",
              "    <tr>\n",
              "      <th>493</th>\n",
              "      <td>նշենք որ այսօր առավոտից անձրեւի տակ հնչում է դ...</td>\n",
              "      <td>note that the rain this morning has live music...</td>\n",
              "    </tr>\n",
              "    <tr>\n",
              "      <th>494</th>\n",
              "      <td>քաղաքական ու հոգեւոր վերնախավը մոտենում են ծաղ...</td>\n",
              "      <td>political and religious leaders are coming to ...</td>\n",
              "    </tr>\n",
              "  </tbody>\n",
              "</table>\n",
              "<p>473 rows × 2 columns</p>\n",
              "</div>"
            ],
            "text/plain": [
              "                                                source                                             target\n",
              "0    միաժամանակ խնդրում եմ հաշվի առնել որ նախապատվո...  please also note that preference will be given...\n",
              "1    խաղողագործների  տոկոսը գրանցված աշխատակիցներ չ...  winemakers percent of employees are not regist...\n",
              "2    բացի այդ նրանցից շատերը վատ վարկային պատմությո...  in addition, many of them have a bad credit hi...\n",
              "3    այս մասին ի թղթակցի հետ զրույցում հայտարարել է...  winemakers union of armenia chairman artak sar...\n",
              "4    արտակ սարգսյանը հավելել է որ բանկերի սահմանափա...  artak sargsyan added that due to bank restrict...\n",
              "..                                                 ...                                                ...\n",
              "490    նրանք պահպանում էին սոցիալական հեռավորություն :                they maintain the social distance .\n",
              "491  հոգեւորականները կաթողիկոսի գլխավորությամբ անմա...  catholicos of the priests burned incense at th...\n",
              "492  ծաղկեպսակի զետեղումից հետո հուշահամալիրում անմ...  after the memorial wreath at the eternal flame...\n",
              "493  նշենք որ այսօր առավոտից անձրեւի տակ հնչում է դ...  note that the rain this morning has live music...\n",
              "494  քաղաքական ու հոգեւոր վերնախավը մոտենում են ծաղ...  political and religious leaders are coming to ...\n",
              "\n",
              "[473 rows x 2 columns]"
            ]
          },
          "metadata": {
            "tags": []
          },
          "execution_count": 18
        }
      ]
    },
    {
      "cell_type": "code",
      "metadata": {
        "id": "Y0QLJSefRpLC",
        "colab_type": "code",
        "colab": {}
      },
      "source": [
        "from google.colab import files\n",
        "\n",
        "df_common_fin.to_csv('ready_35.csv', index=False)\n",
        "files.download('ready_35.csv')"
      ],
      "execution_count": 0,
      "outputs": []
    }
  ]
}